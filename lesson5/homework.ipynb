{
 "cells": [
  {
   "cell_type": "code",
   "execution_count": 5,
   "id": "2b6f32c1",
   "metadata": {},
   "outputs": [
    {
     "name": "stdout",
     "output_type": "stream",
     "text": [
      "格式錯誤 身高、體重超出可計算範圍\n",
      "應用程式結束\n"
     ]
    }
   ],
   "source": [
    "try:\n",
    "    height = float(input(\"請輸入您的身高(cm):\"))\n",
    "    weight = float(input(\"請輸入您的體重(kg):\"))\n",
    "    if height >= 120 and height <=250 and weight >= 30 and weight <= 200:\n",
    "        BMI = weight / (height / 100) ** 2\n",
    "\n",
    "        print(\"身高:\", height, \"體重:\", weight, \"您的BMI是\", round(BMI,1))\n",
    "    else:\n",
    "        raise ValueError(\"身高、體重超出可計算範圍\")\n",
    "        \n",
    "except ValueError as e:\n",
    "    print(\"格式錯誤\", e)\n",
    "except Exception as e:\n",
    "    print(e)\n",
    "\n",
    "print(\"應用程式結束\")"
   ]
  }
 ],
 "metadata": {
  "kernelspec": {
   "display_name": "base",
   "language": "python",
   "name": "python3"
  },
  "language_info": {
   "codemirror_mode": {
    "name": "ipython",
    "version": 3
   },
   "file_extension": ".py",
   "mimetype": "text/x-python",
   "name": "python",
   "nbconvert_exporter": "python",
   "pygments_lexer": "ipython3",
   "version": "3.13.2"
  }
 },
 "nbformat": 4,
 "nbformat_minor": 5
}
