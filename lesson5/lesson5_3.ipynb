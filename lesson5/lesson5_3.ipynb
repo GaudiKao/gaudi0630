{
 "cells": [
  {
   "cell_type": "code",
   "execution_count": null,
   "id": "b66814a6",
   "metadata": {},
   "outputs": [],
   "source": [
    "scores = 78\n",
    "if scores >= 60:\n",
    "    print(\"大於等於60\")\n",
    "else:\n",
    "    print(\"小於60\")"
   ]
  },
  {
   "cell_type": "code",
   "execution_count": null,
   "id": "a9b97e5a",
   "metadata": {},
   "outputs": [
    {
     "name": "stdout",
     "output_type": "stream",
     "text": [
      "介於60到80之間\n"
     ]
    }
   ],
   "source": [
    "#60 <= scores <= 80\n",
    "\n",
    "scores = 80\n",
    "\n",
    "if scores >= 60:\n",
    "    if scores <= 80:\n",
    "        print(f\"{scores}介於60到80之間\")\n",
    "    else:\n",
    "        print(f\"{scores} 大於80\")\n",
    "\n",
    "else:\n",
    "    print(f{scores}\"小於60或大於80\")"
   ]
  },
  {
   "cell_type": "code",
   "execution_count": 8,
   "id": "1b0f8b89",
   "metadata": {},
   "outputs": [
    {
     "name": "stdout",
     "output_type": "stream",
     "text": [
      "介於60到80之間\n"
     ]
    }
   ],
   "source": [
    "#60 <= scores <= 80\n",
    "\n",
    "scores = 80\n",
    "\n",
    "if scores >=60 and scores <=80:\n",
    "    print(\"介於60到80之間\")\n",
    "else:\n",
    "    print(\"小於60或大於80\")"
   ]
  },
  {
   "cell_type": "code",
   "execution_count": 10,
   "id": "a455d4b6",
   "metadata": {},
   "outputs": [
    {
     "name": "stdout",
     "output_type": "stream",
     "text": [
      "80小於等於60或大於等於80\n"
     ]
    }
   ],
   "source": [
    "#scores <= 60 或 >= 80\n",
    "\n",
    "scores = 80\n",
    "\n",
    "if scores <= 60 or scores >=80:\n",
    "    print(f\"{scores}小於等於60或大於等於80\")\n",
    "else:\n",
    "    print(f\"{scores}介於60到80之間\")"
   ]
  }
 ],
 "metadata": {
  "kernelspec": {
   "display_name": "base",
   "language": "python",
   "name": "python3"
  },
  "language_info": {
   "codemirror_mode": {
    "name": "ipython",
    "version": 3
   },
   "file_extension": ".py",
   "mimetype": "text/x-python",
   "name": "python",
   "nbconvert_exporter": "python",
   "pygments_lexer": "ipython3",
   "version": "3.13.2"
  }
 },
 "nbformat": 4,
 "nbformat_minor": 5
}
