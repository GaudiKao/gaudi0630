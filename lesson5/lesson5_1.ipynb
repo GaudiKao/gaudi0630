{
 "cells": [
  {
   "cell_type": "code",
   "execution_count": null,
   "id": "9ad8940a",
   "metadata": {},
   "outputs": [
    {
     "name": "stdout",
     "output_type": "stream",
     "text": [
      "學生總分是: 262\n"
     ]
    }
   ],
   "source": [
    "#學生總分為300\n",
    "#有些學生可以加分5%\n",
    "\n",
    "scores = int(input(\"請輸入學生分數(最高300):\"))\n",
    "is_add = input(\"學生是否符合加分條件?(y,n)\")\n",
    "\n",
    "if is_add.lower() == \"y\": #單向選擇\n",
    "    scores *= 1.05\n",
    "\n",
    "print(\"學生總分是:\", round(scores))"
   ]
  },
  {
   "cell_type": "code",
   "execution_count": null,
   "id": "fccc5050",
   "metadata": {},
   "outputs": [
    {
     "name": "stdout",
     "output_type": "stream",
     "text": [
      "學生總分是: 300\n"
     ]
    }
   ],
   "source": [
    "#學生總分為300\n",
    "#有些學生可以加分5%\n",
    "\n",
    "scores = int(input(\"請輸入學生分數(最高300):\"))\n",
    "is_add = input(\"學生是否符合加分條件?(y,n)\")\n",
    "\n",
    "if is_add.lower() == \"y\": #單向選擇\n",
    "    scores *= 1.05\n",
    "    if scores > 300: #加權後超過300分要加判斷式\n",
    "        scores = 300\n",
    "\n",
    "print(f\"學生總分是: {scores:.0f}\")"
   ]
  },
  {
   "cell_type": "code",
   "execution_count": 6,
   "id": "0288bca6",
   "metadata": {},
   "outputs": [
    {
     "name": "stdout",
     "output_type": "stream",
     "text": [
      "總分不得超過300分\n",
      "應用程式結束\n"
     ]
    }
   ],
   "source": [
    "#學生總分為300\n",
    "#有些學生可以加分5%\n",
    "\n",
    "scores = int(input(\"請輸入學生分數(最高300):\"))\n",
    "if scores <= 300:\n",
    "\n",
    "    is_add = input(\"學生是否符合加分條件?(y,n)\")\n",
    "\n",
    "    if is_add.lower() == \"y\": #單向選擇\n",
    "        scores *= 1.05\n",
    "        if scores > 300:\n",
    "            scores = 300\n",
    "\n",
    "    print(f\"學生總分是: {scores:.0f}\")\n",
    "else:\n",
    "    print(f\"總分不得超過300分\")\n",
    "print(f\"應用程式結束\")"
   ]
  },
  {
   "cell_type": "code",
   "execution_count": null,
   "id": "6656cc38",
   "metadata": {},
   "outputs": [],
   "source": [
    "try:\n",
    "    money = int(input(\"請輸入金額: \"))\n",
    "    print(f\"金額是: {money}\")\n",
    "except:\n",
    "    print(f\"格式錯誤\")\n",
    "print(f\"應用程式結束\")\n"
   ]
  },
  {
   "cell_type": "code",
   "execution_count": 7,
   "id": "09e331a3",
   "metadata": {},
   "outputs": [
    {
     "name": "stdout",
     "output_type": "stream",
     "text": [
      "格式錯誤\n",
      "應用程式結束\n"
     ]
    }
   ],
   "source": [
    "try:\n",
    "    money = int(input(\"請輸入金額: \"))\n",
    "except IndexError:\n",
    "    print(f\"索引錯誤\")\n",
    "except ValueError:\n",
    "    print(f\"格式錯誤\")\n",
    "except:\n",
    "    print(f\"不知名的錯誤\")\n",
    "print(f\"應用程式結束\")"
   ]
  },
  {
   "cell_type": "code",
   "execution_count": null,
   "id": "dc8a6ce5",
   "metadata": {},
   "outputs": [
    {
     "name": "stdout",
     "output_type": "stream",
     "text": [
      "格式錯誤 invalid literal for int() with base 10: 'e1'\n",
      "應用程式結束\n"
     ]
    }
   ],
   "source": [
    "try:\n",
    "    money = int(input(\"請輸入金額: \"))\n",
    "except IndexError as e: #使用as給變數e可以把問題顯示出來\n",
    "    print(f\"索引錯誤 {e}\")\n",
    "except ValueError as e:\n",
    "    print(f\"格式錯誤 {e}\")\n",
    "except:\n",
    "    print(f\"不知名的錯誤\")\n",
    "print(f\"應用程式結束\")"
   ]
  },
  {
   "cell_type": "code",
   "execution_count": 15,
   "id": "e8d654f9",
   "metadata": {},
   "outputs": [
    {
     "name": "stdout",
     "output_type": "stream",
     "text": [
      "格式錯誤 invalid literal for int() with base 10: '23898.12'\n",
      "一定要執行，結束internet連線\n",
      "應用程式結束\n"
     ]
    }
   ],
   "source": [
    "try:\n",
    "    money = int(input(\"請輸入金額: \"))\n",
    "except IndexError as e: #使用as給變數e可以把問題顯示出來\n",
    "    print(f\"索引錯誤 {e}\")\n",
    "except ValueError as e:\n",
    "    print(f\"格式錯誤 {e}\")\n",
    "except:\n",
    "    print(f\"不知名的錯誤\")\n",
    "else:\n",
    "    print(f\"沒有引發錯誤\")\n",
    "finally:\n",
    "    print(f\"一定要執行，結束internet連線\")\n",
    "\n",
    "print(f\"應用程式結束\")"
   ]
  },
  {
   "cell_type": "code",
   "execution_count": 14,
   "id": "d8f20aa4",
   "metadata": {},
   "outputs": [
    {
     "name": "stdout",
     "output_type": "stream",
     "text": [
      "格式錯誤\n",
      "應用程式結束\n"
     ]
    }
   ],
   "source": [
    "try:\n",
    "    money = int(input(\"請輸入金額: \"))\n",
    "    print(f\"金額是: {money}\")\n",
    "except:\n",
    "    print(f\"格式錯誤\")\n",
    "    \n",
    "print(f\"應用程式結束\")"
   ]
  }
 ],
 "metadata": {
  "kernelspec": {
   "display_name": "base",
   "language": "python",
   "name": "python3"
  },
  "language_info": {
   "codemirror_mode": {
    "name": "ipython",
    "version": 3
   },
   "file_extension": ".py",
   "mimetype": "text/x-python",
   "name": "python",
   "nbconvert_exporter": "python",
   "pygments_lexer": "ipython3",
   "version": "3.13.2"
  }
 },
 "nbformat": 4,
 "nbformat_minor": 5
}
