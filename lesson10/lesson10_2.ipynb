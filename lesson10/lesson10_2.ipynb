{
 "cells": [
  {
   "cell_type": "code",
   "execution_count": 1,
   "id": "c40d657a",
   "metadata": {},
   "outputs": [
    {
     "data": {
      "text/plain": [
       "0"
      ]
     },
     "execution_count": 1,
     "metadata": {},
     "output_type": "execute_result"
    }
   ],
   "source": [
    "#建立list\n",
    "empty_list = []\n",
    "type(empty_list)\n",
    "len(empty_list)"
   ]
  },
  {
   "cell_type": "code",
   "execution_count": 2,
   "id": "d24b2617",
   "metadata": {},
   "outputs": [
    {
     "name": "stdout",
     "output_type": "stream",
     "text": [
      "星期一\n",
      "星期二\n",
      "星期三\n",
      "星期四\n",
      "星期五\n",
      "星期六\n",
      "星期日\n"
     ]
    }
   ],
   "source": [
    "weekdays = ['星期一', '星期二', '星期三', '星期四', '星期五', '星期六', '星期日']\n",
    "weekdays\n",
    "len(weekdays)\n",
    "for day in weekdays:\n",
    "    print(day)\n"
   ]
  },
  {
   "cell_type": "code",
   "execution_count": 3,
   "id": "921b6d5c",
   "metadata": {},
   "outputs": [
    {
     "data": {
      "text/plain": [
       "['星期一', '星期二', '星期三', '星期四', '星期五', '星期六', '星期日']"
      ]
     },
     "execution_count": 3,
     "metadata": {},
     "output_type": "execute_result"
    }
   ],
   "source": [
    "weekdays = ['星期一', '星期二', '星期三', '星期四', '星期五', '星期六', '星期日']\n",
    "weekdays"
   ]
  },
  {
   "cell_type": "code",
   "execution_count": 4,
   "id": "ab97d6fb",
   "metadata": {},
   "outputs": [
    {
     "data": {
      "text/plain": [
       "'星期日'"
      ]
     },
     "execution_count": 4,
     "metadata": {},
     "output_type": "execute_result"
    }
   ],
   "source": [
    "#取出元素\n",
    "#變數[]->subscript\n",
    "\n",
    "weekdays[0]\n",
    "weekdays[6]"
   ]
  },
  {
   "cell_type": "code",
   "execution_count": 10,
   "id": "80684f81",
   "metadata": {},
   "outputs": [
    {
     "data": {
      "text/plain": [
       "['星期一', '星期二', '星期三', '星期四', '星期五', '星期六', '星期日']"
      ]
     },
     "execution_count": 10,
     "metadata": {},
     "output_type": "execute_result"
    }
   ],
   "source": [
    "#取出部分元素\n",
    "#變數[前面:後面]\n",
    "# slice->切割\n",
    "weekdays[0:3] #0~3不包含3\n",
    "weekdays[:3] #前三個，也就是[0:3]\n",
    "weekdays[-3:-1] #從倒數第三個到最後一個(不包含最後一個)\n",
    "weekdays[-3:] #從倒數第三個到最後\n",
    "weekdays[:] #全部"
   ]
  },
  {
   "cell_type": "code",
   "execution_count": 14,
   "id": "0ac76c29",
   "metadata": {},
   "outputs": [
    {
     "data": {
      "text/plain": [
       "('gaudi', 300)"
      ]
     },
     "execution_count": 14,
     "metadata": {},
     "output_type": "execute_result"
    }
   ],
   "source": [
    "#tuple\n",
    "#tuple不可以新增元素,修改,刪除元素(不可變)\n",
    "('a', 'A')\n",
    "'a', 'A'#也可以寫成這樣\n",
    "\n",
    "#tuple最常使用拆解法\n",
    "(name, score) = 'gaudi', 300\n",
    "name, score"
   ]
  },
  {
   "cell_type": "code",
   "execution_count": null,
   "id": "47863245",
   "metadata": {},
   "outputs": [
    {
     "data": {
      "text/plain": [
       "[10, 20, 30, 40]"
      ]
     },
     "execution_count": 17,
     "metadata": {},
     "output_type": "execute_result"
    }
   ],
   "source": [
    "#list comprehension ->list的綜合語法\n",
    "#快速建立list\n",
    "#[運算式 for 區塊變數 in 串列資料]\n",
    "\n",
    "[i*5 for i in range(1,10)]\n",
    "\n",
    "#[運算式 for 區塊變數 in 串列資料 if 比較運算]\n",
    "[i*5 for i in range(1,10) if i % 2 == 0]"
   ]
  }
 ],
 "metadata": {
  "kernelspec": {
   "display_name": "base",
   "language": "python",
   "name": "python3"
  },
  "language_info": {
   "codemirror_mode": {
    "name": "ipython",
    "version": 3
   },
   "file_extension": ".py",
   "mimetype": "text/x-python",
   "name": "python",
   "nbconvert_exporter": "python",
   "pygments_lexer": "ipython3",
   "version": "3.13.2"
  }
 },
 "nbformat": 4,
 "nbformat_minor": 5
}
