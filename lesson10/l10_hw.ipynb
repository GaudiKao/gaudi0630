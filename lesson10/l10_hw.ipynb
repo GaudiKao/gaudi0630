{
 "cells": [
  {
   "cell_type": "code",
   "execution_count": null,
   "id": "69a670eb",
   "metadata": {},
   "outputs": [
    {
     "name": "stdout",
     "output_type": "stream",
     "text": [
      "['劉雯芬', 59, 79, 94]\n",
      "['翁均安', 84, 100, 70]\n",
      "['杜儀鳳', 50, 87, 85]\n"
     ]
    }
   ],
   "source": [
    "有一個names.txt\n",
    "讀取names.txt\n",
    "請隨機取出3個名字\n",
    "建立2維的list,結構如下\n",
    "每個姓名有3個分數,分數是(50~100)的隨機數\n",
    "並用中文標示每段作法\n",
    "\n",
    "import random #隨機數生成模組\n",
    "def read_names(file_path):   \"\"\"讀取names.txt檔案，返回姓名列表\"\"\"\n",
    "    with open(file_path, 'r', encoding='utf-8') as file: # 打開檔案\n",
    "        # 讀取每一行並去除空白字符\n",
    "        names = [line.strip() for line in file if line.strip()] # 讀取姓名\n",
    "    return names # 返回姓名列表\n",
    "\n",
    "def get_random_scores(num_scores):   \"\"\"生成指定數量的隨機分數，範圍在50到100之間\"\"\"\n",
    "    return [random.randint(50, 100) for _ in range(num_scores)] # 生成隨機分數\n",
    "\n",
    "def create_student_records(names):   \"\"\"根據姓名列表創建學生記錄，每個記錄包含姓名和3個隨機分數\"\"\"\n",
    "    records = [] # 初始化記錄列表\n",
    "    for name in names: # 隨機選取姓名\n",
    "        scores = get_random_scores(3) # 生成3個隨機分數\n",
    "        records.append([name] + scores) # 將姓名和分數組合成一個記錄\n",
    "    return records # 返回學生記錄列表\n",
    "\n",
    "def main(): \"\"\"主函數，執行整個流程\"\"\"\n",
    "    names_file = 'names.txt' # 定義姓名檔案路徑\n",
    "    names = read_names(names_file) # 讀取姓名列表\n",
    "    \n",
    "    if len(names) < 3:  # 檢查姓名數量是否足夠\n",
    "        print(\"Not enough names in the file.\") # 如果姓名數量不足，則輸出提示\n",
    "        return\n",
    "    \n",
    "    selected_names = random.sample(names, 3) # 隨機選取3個姓名\n",
    "    student_records = create_student_records(selected_names) # 創建學生記錄\n",
    "    \n",
    "    for record in student_records: # 輸出每個學生記錄\n",
    "        print(record)\n",
    "if __name__ == \"__main__\": # 執行主函數\n",
    "    main()\n"
   ]
  }
 ],
 "metadata": {
  "kernelspec": {
   "display_name": "base",
   "language": "python",
   "name": "python3"
  },
  "language_info": {
   "codemirror_mode": {
    "name": "ipython",
    "version": 3
   },
   "file_extension": ".py",
   "mimetype": "text/x-python",
   "name": "python",
   "nbconvert_exporter": "python",
   "pygments_lexer": "ipython3",
   "version": "3.13.2"
  }
 },
 "nbformat": 4,
 "nbformat_minor": 5
}
