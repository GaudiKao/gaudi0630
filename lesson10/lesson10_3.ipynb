{
 "cells": [
  {
   "cell_type": "code",
   "execution_count": null,
   "id": "fdbadd0c",
   "metadata": {},
   "outputs": [],
   "source": [
    "##類別\n",
    "##實體"
   ]
  },
  {
   "cell_type": "code",
   "execution_count": null,
   "id": "209c39b3",
   "metadata": {},
   "outputs": [
    {
     "name": "stdout",
     "output_type": "stream",
     "text": [
      "<class 'list'>\n"
     ]
    }
   ],
   "source": [
    "my_list:list = [i for i in range(10)]\n",
    "print(type(my_list))\n",
    "#list的實體方法append\n",
    "my_list.append(10)"
   ]
  },
  {
   "cell_type": "code",
   "execution_count": null,
   "id": "78ba7cc0",
   "metadata": {},
   "outputs": [
    {
     "data": {
      "text/plain": [
       "[0, 1, 2, 3, 4, 5, 6, 7, 8, 9, 10]"
      ]
     },
     "execution_count": 6,
     "metadata": {},
     "output_type": "execute_result"
    }
   ],
   "source": [
    "#建立my_list常用的實體方法\n",
    "my_list.clear()  # 清空列表\n",
    "my_list\n",
    "my_list.append(10)  # 在列表末尾添加元素\n",
    "my_list\n",
    "my_list.extend([11, 12])  # 在列表末尾添加多個元素\n",
    "my_list\n",
    "my_list.insert(0, -1)  # 在指定位置插入元素\n",
    "my_list\n",
    "my_list.remove(10)  # 移除列表中的第一個匹配項\n",
    "my_list\n",
    "my_list.pop()  # 移除並返回列表中的最後一個元素\n",
    "my_list"
   ]
  },
  {
   "cell_type": "code",
   "execution_count": 10,
   "id": "2d157acf",
   "metadata": {},
   "outputs": [
    {
     "data": {
      "text/plain": [
       "['gaudi', ' atrhur', ' reby']"
      ]
     },
     "execution_count": 10,
     "metadata": {},
     "output_type": "execute_result"
    }
   ],
   "source": [
    "\"taipei\".upper() #所有字變大寫\n",
    "\"taipei\".capitalize() #第1個字變大寫\n",
    "\"  taipei \".strip() #去掉頭尾空格\n",
    "\"gaudi, atrhur, reby\".split(\",\") "
   ]
  }
 ],
 "metadata": {
  "kernelspec": {
   "display_name": "base",
   "language": "python",
   "name": "python3"
  },
  "language_info": {
   "codemirror_mode": {
    "name": "ipython",
    "version": 3
   },
   "file_extension": ".py",
   "mimetype": "text/x-python",
   "name": "python",
   "nbconvert_exporter": "python",
   "pygments_lexer": "ipython3",
   "version": "3.13.2"
  }
 },
 "nbformat": 4,
 "nbformat_minor": 5
}
