{
 "cells": [
  {
   "cell_type": "code",
   "execution_count": null,
   "id": "7eb12ab9",
   "metadata": {},
   "outputs": [],
   "source": [
    "try:\n",
    "    height = float(input(\"請輸入身高(120-250(cm))\"))\n",
    "    if not(120 <= height <= 250):\n",
    "        raise Exception(\"身高數字需在120~250(cm)內\")\n",
    "     \n",
    "    weight = float(input(\"請輸入體重(30~200(kg))\"))\n",
    "    if not(30 <= weight <= 200):\n",
    "        raise Exception(\"體重數字需在30~200(kg)內\")\n",
    "    \n",
    "    print(\"您的身高為:\", height, \"cm\")\n",
    "    print(\"您的體重為:\", weight, \"kg\")\n",
    "        \n",
    "except ValueError as e:\n",
    "    print(\"格式錯誤\", e)\n",
    "except Exception as e:\n",
    "    print(e)\n",
    "else:\n",
    "    bmi = weight / (height / 100) ** 2\n",
    "    print(\"您的bmi為:\", round(bmi, ndigits = 1)) \n",
    "finally:\n",
    "    print(\"應用程式結束\")"
   ]
  }
 ],
 "metadata": {
  "kernelspec": {
   "display_name": "base",
   "language": "python",
   "name": "python3"
  },
  "language_info": {
   "name": "python",
   "version": "3.13.2"
  }
 },
 "nbformat": 4,
 "nbformat_minor": 5
}
