{
 "cells": [
  {
   "cell_type": "code",
   "execution_count": 7,
   "id": "56ed160e",
   "metadata": {},
   "outputs": [
    {
     "name": "stdout",
     "output_type": "stream",
     "text": [
      "您的BMI是:25.8\n",
      "BMI狀態為:體重過重\n",
      "應用程式結束\n"
     ]
    }
   ],
   "source": [
    "#第一題:BMI計算器\n",
    "while True:\n",
    "    try:\n",
    "        height = float(input(\"請輸入您的身高(120~250cm):\"))\n",
    "        weight = float(input(\"請輸入您的體重(30~200kg):\"))\n",
    "        if 120 <= height <=250 and 30 <= weight <= 200:\n",
    "            bmi = weight / (height / 100) ** 2\n",
    "            if bmi < 18.5:\n",
    "              posture = \"體重過輕\"\n",
    "            elif bmi < 24:\n",
    "              posture = \"健康體位\"\n",
    "            elif bmi < 27:\n",
    "              posture = \"體重過重\"\n",
    "            elif bmi < 30:\n",
    "              posture = \"輕度肥胖\"\n",
    "            elif bmi < 35:\n",
    "              posture = \"中度肥胖\"      \n",
    "            else:\n",
    "              posture = \"重度肥胖\"\n",
    "\n",
    "            print(f\"您的BMI是:{bmi:.1f}\\nBMI狀態為:{posture}\")\n",
    "            break # 資料正確，跳出迴圈\n",
    "        else:\n",
    "            print(\"身高、體重超出可計算範圍，請重新輸入\")\n",
    "            \n",
    "    except ValueError:\n",
    "        print(\"請輸入正確的數字格式！\")\n",
    "    except Exception as e:\n",
    "        print(f\"發生錯誤{e}\")\n",
    "print(\"應用程式結束\")"
   ]
  },
  {
   "cell_type": "code",
   "execution_count": null,
   "id": "1336b67b",
   "metadata": {},
   "outputs": [
    {
     "name": "stdout",
     "output_type": "stream",
     "text": [
      "30因數有: 1 2 3 5 6 10 15 30\n",
      "應用程式結束\n"
     ]
    }
   ],
   "source": [
    "#第二題:因數\n",
    "import math\n",
    "while True:\n",
    "    try:\n",
    "        num = int(input(\"請輸入第1個整數:\"))\n",
    "        if num <= 0:\n",
    "            raise ValueError\n",
    "          \n",
    "        print(f\"{num}的因數有:\", end=\"\")\n",
    "        for i in range(1, num+1):\n",
    "          if num % i == 0:\n",
    "            print(f\" {i}\", end=\"\")\n",
    "        break #正確輸入後跳出 while 迴圈\n",
    "    except ValueError as e:\n",
    "        print(\"數值錯誤,請輸入大於0的正整數！\")\n",
    "print(\"\\n應用程式結束\")"
   ]
  },
  {
   "cell_type": "code",
   "execution_count": 6,
   "id": "0781bb3f",
   "metadata": {},
   "outputs": [
    {
     "name": "stdout",
     "output_type": "stream",
     "text": [
      "20和30的共同因數有: 1 2 5 10\n",
      "應用程式結束\n"
     ]
    }
   ],
   "source": [
    "#第三題:2數的公因數\n",
    "import math\n",
    "while True:\n",
    "    try:\n",
    "        num1 = int(input(\"請輸入第1個整數:\"))\n",
    "        num2 = int(input(\"請輸入第2個整數:\"))\n",
    "        if num1 <= 0 or num2 <= 0:\n",
    "            raise ValueError\n",
    "          \n",
    "        gcd = math.gcd(num1, num2)\n",
    "        print(f\"{num1}和{num2}的共同因數有:\", end=\"\")\n",
    "        for i in range(1, gcd+1):\n",
    "          if gcd % i == 0:\n",
    "            print(f\" {i}\", end=\"\")\n",
    "        break #正確輸入後跳出 while 迴圈\n",
    "    except ValueError as e:\n",
    "        print(\"數值錯誤,請輸入大於0的正整數！\")\n",
    "print(\"\\n應用程式結束\")"
   ]
  }
 ],
 "metadata": {
  "kernelspec": {
   "display_name": "base",
   "language": "python",
   "name": "python3"
  },
  "language_info": {
   "codemirror_mode": {
    "name": "ipython",
    "version": 3
   },
   "file_extension": ".py",
   "mimetype": "text/x-python",
   "name": "python",
   "nbconvert_exporter": "python",
   "pygments_lexer": "ipython3",
   "version": "3.13.2"
  }
 },
 "nbformat": 4,
 "nbformat_minor": 5
}
