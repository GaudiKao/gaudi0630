{
 "cells": [
  {
   "cell_type": "code",
   "execution_count": 7,
   "id": "2fb23dfa",
   "metadata": {},
   "outputs": [],
   "source": [
    "#AI建立一個function\n",
    "#資料來源:scores = np.random.randint(50,101,size=(50, 5))\n",
    "#欄位: ['國文', '英文', '數學', '自然', '社會', '總分', '平均', '排名']\n",
    "#索引: ['學生' + str(i) for i in range(1, 51)]\n",
    "#建立DataFrame\n",
    "import numpy as np\n",
    "import pandas as pd\n",
    "\n",
    "def build_scores_dataframe(scores):\n",
    "    df = pd.DataFrame(scores,\n",
    "                      columns=['國文', '英文', '數學', '自然', '社會'],\n",
    "                      index=['學生' + str(i) for i in range(1, 51)])\n",
    "    df.index.name = '學生'\n",
    "    df.columns.name = '科目'\n",
    "    sum_values = df.sum(axis=1)\n",
    "    mean_values = df.mean(axis=1)\n",
    "    df['總分'] = sum_values\n",
    "    df['平均'] = mean_values\n",
    "    rank_values = sum_values.rank(method='min', ascending=False)\n",
    "    df['排名'] = rank_values\n",
    "    return df "
   ]
  },
  {
   "cell_type": "code",
   "execution_count": null,
   "id": "4332eeac",
   "metadata": {},
   "outputs": [],
   "source": [
    "scores = np.random.randint(50,101,size=(50, 5))\n",
    "df = build_scores_dataframe(scores)\n",
    "df\n",
    "#AI建立一個function\n",
    "#依據df\n",
    "#建立1個統計的DataFrame\n",
    "#欄位: ['國文', '英文', '數學', '自然', '社會']\n",
    "#欄位: ['平均', '最高', '最低', '中間值']"
   ]
  },
  {
   "cell_type": "code",
   "execution_count": 10,
   "id": "2a3d1eba",
   "metadata": {},
   "outputs": [
    {
     "data": {
      "text/html": [
       "<div>\n",
       "<style scoped>\n",
       "    .dataframe tbody tr th:only-of-type {\n",
       "        vertical-align: middle;\n",
       "    }\n",
       "\n",
       "    .dataframe tbody tr th {\n",
       "        vertical-align: top;\n",
       "    }\n",
       "\n",
       "    .dataframe thead th {\n",
       "        text-align: right;\n",
       "    }\n",
       "</style>\n",
       "<table border=\"1\" class=\"dataframe\">\n",
       "  <thead>\n",
       "    <tr style=\"text-align: right;\">\n",
       "      <th>科目</th>\n",
       "      <th>國文</th>\n",
       "      <th>英文</th>\n",
       "      <th>數學</th>\n",
       "      <th>自然</th>\n",
       "      <th>社會</th>\n",
       "    </tr>\n",
       "  </thead>\n",
       "  <tbody>\n",
       "    <tr>\n",
       "      <th>平均</th>\n",
       "      <td>73.5</td>\n",
       "      <td>76.26</td>\n",
       "      <td>80.64</td>\n",
       "      <td>72.22</td>\n",
       "      <td>71.74</td>\n",
       "    </tr>\n",
       "    <tr>\n",
       "      <th>最高</th>\n",
       "      <td>100.0</td>\n",
       "      <td>100.00</td>\n",
       "      <td>100.00</td>\n",
       "      <td>99.00</td>\n",
       "      <td>97.00</td>\n",
       "    </tr>\n",
       "    <tr>\n",
       "      <th>最低</th>\n",
       "      <td>50.0</td>\n",
       "      <td>50.00</td>\n",
       "      <td>54.00</td>\n",
       "      <td>50.00</td>\n",
       "      <td>50.00</td>\n",
       "    </tr>\n",
       "    <tr>\n",
       "      <th>中間值</th>\n",
       "      <td>71.0</td>\n",
       "      <td>77.00</td>\n",
       "      <td>80.50</td>\n",
       "      <td>74.00</td>\n",
       "      <td>68.50</td>\n",
       "    </tr>\n",
       "  </tbody>\n",
       "</table>\n",
       "</div>"
      ],
      "text/plain": [
       "科目      國文      英文      數學     自然     社會\n",
       "平均    73.5   76.26   80.64  72.22  71.74\n",
       "最高   100.0  100.00  100.00  99.00  97.00\n",
       "最低    50.0   50.00   54.00  50.00  50.00\n",
       "中間值   71.0   77.00   80.50  74.00  68.50"
      ]
     },
     "execution_count": 10,
     "metadata": {},
     "output_type": "execute_result"
    }
   ],
   "source": [
    "#建立1個統計的DataFrame\n",
    "def create_statistics_dataframe(df):\n",
    "    cols = ['國文', '英文', '數學', '自然', '社會']\n",
    "    stats = df[cols].agg(['mean', 'max', 'min', 'median'])\n",
    "    stats.index = ['平均', '最高', '最低', '中間值']\n",
    "    return stats\n",
    "create_statistics_dataframe(df)"
   ]
  }
 ],
 "metadata": {
  "kernelspec": {
   "display_name": "Python 3",
   "language": "python",
   "name": "python3"
  },
  "language_info": {
   "codemirror_mode": {
    "name": "ipython",
    "version": 3
   },
   "file_extension": ".py",
   "mimetype": "text/x-python",
   "name": "python",
   "nbconvert_exporter": "python",
   "pygments_lexer": "ipython3",
   "version": "3.12.11"
  }
 },
 "nbformat": 4,
 "nbformat_minor": 5
}
