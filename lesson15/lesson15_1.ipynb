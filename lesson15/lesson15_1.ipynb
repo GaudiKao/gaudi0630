{
 "cells": [
  {
   "cell_type": "code",
   "execution_count": 1,
   "id": "014a960f",
   "metadata": {},
   "outputs": [
    {
     "data": {
      "text/plain": [
       "array([10, 30, 50, 70, 90])"
      ]
     },
     "execution_count": 1,
     "metadata": {},
     "output_type": "execute_result"
    }
   ],
   "source": [
    "import numpy as np\n",
    "\n",
    "a = np.array([1, 3, 5, 7, 9])\n",
    "a *= 10\n",
    "a"
   ]
  },
  {
   "cell_type": "code",
   "execution_count": null,
   "id": "28156159",
   "metadata": {},
   "outputs": [
    {
     "data": {
      "text/plain": [
       "array([ 3,  7, 11, 15, 19])"
      ]
     },
     "execution_count": 3,
     "metadata": {},
     "output_type": "execute_result"
    }
   ],
   "source": [
    "a = np.array([1, 3, 5, 7, 9])\n",
    "b = np.array([2, 4, 6, 8, 10])\n",
    "\n",
    "#陣列運算\n",
    "a + b"
   ]
  },
  {
   "cell_type": "code",
   "execution_count": null,
   "id": "b111a582",
   "metadata": {},
   "outputs": [
    {
     "data": {
      "text/plain": [
       "dtype('int64')"
      ]
     },
     "execution_count": 7,
     "metadata": {},
     "output_type": "execute_result"
    }
   ],
   "source": [
    "#二維ndarray\n",
    "arr = np.array([[1, 3, 5],[2, 4, 6]])\n",
    "arr.ndim #維度\n",
    "arr.shape #返回一个表示数组每个维度大小的元组。比如，二维数组 shape 可能是 (3, 4)，表示 3 行 4 列。\n",
    "arr.size #数组中所有元素的总数，相当于 shape 中各维度大小的乘积。\n",
    "arr.dtype #表示数组中元素的数据类型，如 int32、float64 等。\n"
   ]
  },
  {
   "cell_type": "code",
   "execution_count": 8,
   "id": "764a95e2",
   "metadata": {},
   "outputs": [
    {
     "data": {
      "text/plain": [
       "array([[0.49197139, 0.98193242, 0.2222256 , 0.49146397],\n",
       "       [0.98893208, 0.77584251, 0.12933128, 0.82481087],\n",
       "       [0.53751159, 0.97208221, 0.87265912, 0.07596581]])"
      ]
     },
     "execution_count": 8,
     "metadata": {},
     "output_type": "execute_result"
    }
   ],
   "source": [
    "np.random.rand(3,4)"
   ]
  },
  {
   "cell_type": "code",
   "execution_count": 11,
   "id": "5b630f81",
   "metadata": {},
   "outputs": [
    {
     "data": {
      "text/plain": [
       "array([[ 96,  93,  96,  60,  89],\n",
       "       [ 65,  78,  71,  85,  55],\n",
       "       [ 89,  87,  56,  59,  84],\n",
       "       [ 89,  55,  83,  60,  55],\n",
       "       [ 98,  67,  51,  60,  92],\n",
       "       [ 83,  75,  71,  64,  63],\n",
       "       [ 62,  61,  80,  58,  93],\n",
       "       [ 66,  62,  93,  77,  96],\n",
       "       [ 71,  80,  78,  99,  58],\n",
       "       [ 92,  68,  75,  97,  87],\n",
       "       [ 95,  80,  67,  60,  80],\n",
       "       [ 71,  82,  59,  63,  81],\n",
       "       [ 64,  81,  86,  51,  54],\n",
       "       [ 89,  96,  71,  76,  71],\n",
       "       [ 74,  62,  70,  90,  79],\n",
       "       [ 88,  75,  51,  60,  61],\n",
       "       [ 67,  76,  90,  53,  85],\n",
       "       [ 93,  83,  64,  92,  99],\n",
       "       [ 54, 100,  80,  75,  51],\n",
       "       [ 95,  74,  90,  82,  53],\n",
       "       [ 93,  68,  89,  70,  69],\n",
       "       [ 54,  63,  89,  81,  68],\n",
       "       [ 65,  57,  89,  52,  53],\n",
       "       [ 51,  81,  73,  81,  78],\n",
       "       [ 70,  73,  70, 100,  98],\n",
       "       [ 92,  86,  60,  80,  97],\n",
       "       [ 88,  75,  61,  69,  74],\n",
       "       [ 92,  75,  54,  97,  54],\n",
       "       [100,  93,  81,  78,  87],\n",
       "       [ 79,  84,  72,  57,  67],\n",
       "       [ 73, 100,  62,  70,  50],\n",
       "       [ 82,  78, 100,  53,  64],\n",
       "       [ 54,  89,  72,  54,  57],\n",
       "       [ 83,  63,  75,  88,  89],\n",
       "       [ 78,  77,  81,  80,  75],\n",
       "       [ 69,  84,  81,  68,  86],\n",
       "       [ 88,  68,  56,  69,  91],\n",
       "       [ 89,  59,  67,  79,  77],\n",
       "       [ 59,  51,  83,  77,  91],\n",
       "       [ 69,  76,  78,  68,  65],\n",
       "       [ 97,  64,  66,  54,  67],\n",
       "       [ 53,  92,  56,  79,  78],\n",
       "       [ 86,  94,  92,  57,  98],\n",
       "       [ 68,  81,  97,  74,  51],\n",
       "       [ 51,  55,  50,  61,  70],\n",
       "       [ 87,  99,  52,  92,  99],\n",
       "       [100,  74,  53,  78,  79],\n",
       "       [ 90,  54,  85,  66,  63],\n",
       "       [100,  63,  69,  63,  85],\n",
       "       [ 80,  64,  54,  52,  81]], dtype=int32)"
      ]
     },
     "execution_count": 11,
     "metadata": {},
     "output_type": "execute_result"
    }
   ],
   "source": [
    "scores = np.random.randint(50, 101,size=(50,5))\n",
    "scores"
   ]
  }
 ],
 "metadata": {
  "kernelspec": {
   "display_name": "data_1",
   "language": "python",
   "name": "python3"
  },
  "language_info": {
   "codemirror_mode": {
    "name": "ipython",
    "version": 3
   },
   "file_extension": ".py",
   "mimetype": "text/x-python",
   "name": "python",
   "nbconvert_exporter": "python",
   "pygments_lexer": "ipython3",
   "version": "3.12.11"
  }
 },
 "nbformat": 4,
 "nbformat_minor": 5
}
