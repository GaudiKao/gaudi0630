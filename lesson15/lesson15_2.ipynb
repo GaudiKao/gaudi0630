{
 "cells": [
  {
   "cell_type": "code",
   "execution_count": 5,
   "id": "e50e106b",
   "metadata": {},
   "outputs": [
    {
     "data": {
      "text/plain": [
       "array([ 0, 10, 20, 30, 40, 50, 60, 70, 80, 90])"
      ]
     },
     "execution_count": 5,
     "metadata": {},
     "output_type": "execute_result"
    }
   ],
   "source": [
    "import numpy as np\n",
    "arr = np.arange(10) * 10\n",
    "arr"
   ]
  },
  {
   "cell_type": "code",
   "execution_count": 6,
   "id": "cfd33088",
   "metadata": {},
   "outputs": [
    {
     "data": {
      "text/plain": [
       "array([50, 60, 70, 80, 90])"
      ]
     },
     "execution_count": 6,
     "metadata": {},
     "output_type": "execute_result"
    }
   ],
   "source": [
    "#索引\n",
    "arr[1]\n",
    "\n",
    "#slice\n",
    "arr[:5] #前5個\n",
    "arr[-5:] #最後5個"
   ]
  },
  {
   "cell_type": "code",
   "execution_count": 8,
   "id": "f11febd4",
   "metadata": {},
   "outputs": [
    {
     "data": {
      "text/plain": [
       "array([[ 63,  58,  97,  91,  60],\n",
       "       [ 89,  99,  69,  99,  81],\n",
       "       [ 78,  51,  53,  69,  59],\n",
       "       [ 58,  68,  97,  89,  83],\n",
       "       [ 52,  50,  92,  88,  94],\n",
       "       [ 55,  84,  74,  66,  94],\n",
       "       [ 80,  97,  53,  79,  74],\n",
       "       [ 60,  59,  73,  74,  75],\n",
       "       [ 53,  72,  54,  79,  50],\n",
       "       [ 66,  83,  55,  84,  74],\n",
       "       [ 70,  94,  52,  83,  53],\n",
       "       [ 65,  94,  96,  87,  53],\n",
       "       [ 97,  84,  58,  93,  59],\n",
       "       [ 61,  92,  83,  87,  76],\n",
       "       [ 54,  97,  59,  73,  50],\n",
       "       [ 60,  61,  71,  50,  50],\n",
       "       [ 91,  74,  66,  90,  74],\n",
       "       [ 67,  81,  85,  85,  70],\n",
       "       [ 89,  76,  78,  88,  50],\n",
       "       [ 50,  89,  67,  85,  66],\n",
       "       [ 52,  66,  94,  56,  53],\n",
       "       [ 92,  84,  56,  58,  88],\n",
       "       [ 79,  94,  79,  97,  92],\n",
       "       [ 66,  60,  70,  83,  94],\n",
       "       [ 84,  56,  83,  93,  75],\n",
       "       [ 58,  56,  89,  93,  51],\n",
       "       [ 94,  77,  63,  81,  65],\n",
       "       [ 83,  73,  66,  66,  62],\n",
       "       [ 91,  60,  85,  91,  81],\n",
       "       [ 73,  78,  86,  86,  54],\n",
       "       [ 94,  92,  92,  61,  93],\n",
       "       [ 85,  83,  61,  70,  86],\n",
       "       [ 86,  81,  98,  69,  75],\n",
       "       [ 53,  92,  67,  74,  93],\n",
       "       [ 82,  84,  60,  68,  88],\n",
       "       [ 86, 100,  74,  62,  64],\n",
       "       [ 53,  64,  55,  66,  97],\n",
       "       [ 95,  93,  95,  83,  90],\n",
       "       [ 79,  61,  84,  51,  97],\n",
       "       [ 68,  71,  93,  82,  54],\n",
       "       [100,  82,  76,  71,  51],\n",
       "       [ 69,  76,  62,  77,  69],\n",
       "       [ 67,  83, 100,  60,  58],\n",
       "       [ 91,  88,  92,  63, 100],\n",
       "       [ 83,  53,  58,  83,  87],\n",
       "       [ 68,  64,  67,  78,  82],\n",
       "       [ 92,  92,  59,  53,  83],\n",
       "       [ 72,  79,  59,  62,  64],\n",
       "       [ 65,  87,  55,  61,  51],\n",
       "       [ 58,  52,  90,  94,  63]], dtype=int32)"
      ]
     },
     "execution_count": 8,
     "metadata": {},
     "output_type": "execute_result"
    }
   ],
   "source": [
    "scores = np.random.randint(50, 101,size=(50,5))\n",
    "scores"
   ]
  },
  {
   "cell_type": "code",
   "execution_count": 14,
   "id": "5c09144b",
   "metadata": {},
   "outputs": [
    {
     "data": {
      "text/plain": [
       "array([[63, 58, 97, 91, 60]], dtype=int32)"
      ]
     },
     "execution_count": 14,
     "metadata": {},
     "output_type": "execute_result"
    }
   ],
   "source": [
    "#第一位學生的分數\n",
    "scores[0]\n",
    "scores[0, :]\n",
    "scores[:1,]"
   ]
  },
  {
   "cell_type": "code",
   "execution_count": null,
   "id": "dd68671f",
   "metadata": {},
   "outputs": [
    {
     "data": {
      "text/plain": [
       "array([[63, 58, 97],\n",
       "       [89, 99, 69],\n",
       "       [78, 51, 53],\n",
       "       [58, 68, 97],\n",
       "       [52, 50, 92]], dtype=int32)"
      ]
     },
     "execution_count": 16,
     "metadata": {},
     "output_type": "execute_result"
    }
   ],
   "source": [
    "#前5位學生,前3個分數\n",
    "scores[:5,]\n",
    "scores[:5,:3]"
   ]
  },
  {
   "cell_type": "code",
   "execution_count": null,
   "id": "8796fc00",
   "metadata": {},
   "outputs": [],
   "source": []
  },
  {
   "cell_type": "code",
   "execution_count": 17,
   "id": "a0e99b1c",
   "metadata": {},
   "outputs": [
    {
     "data": {
      "text/plain": [
       "array([ 63,  89,  78,  58,  52,  55,  80,  60,  53,  66,  70,  65,  97,\n",
       "        61,  54,  60,  91,  67,  89,  50,  52,  92,  79,  66,  84,  58,\n",
       "        94,  83,  91,  73,  94,  85,  86,  53,  82,  86,  53,  95,  79,\n",
       "        68, 100,  69,  67,  91,  83,  68,  92,  72,  65,  58], dtype=int32)"
      ]
     },
     "execution_count": 17,
     "metadata": {},
     "output_type": "execute_result"
    }
   ],
   "source": [
    "#第1科分數\n",
    "scores[:,0]"
   ]
  },
  {
   "cell_type": "code",
   "execution_count": 18,
   "id": "d290af0c",
   "metadata": {},
   "outputs": [
    {
     "data": {
      "text/plain": [
       "array([369, 437, 310, 395, 376, 373, 383, 341, 308, 362, 352, 395, 391,\n",
       "       399, 333, 292, 395, 388, 381, 357, 321, 378, 441, 373, 391, 347,\n",
       "       380, 350, 408, 377, 432, 385, 409, 379, 382, 386, 335, 456, 372,\n",
       "       368, 380, 353, 368, 434, 364, 359, 379, 336, 319, 357], dtype=int32)"
      ]
     },
     "execution_count": 18,
     "metadata": {},
     "output_type": "execute_result"
    }
   ],
   "source": [
    "#ndarray可以陣列運算\n",
    "total = scores[:,0] + scores[:,1] + scores[:,2] + scores[:,3] + scores[:,4]\n",
    "total"
   ]
  },
  {
   "cell_type": "code",
   "execution_count": 19,
   "id": "5b7f2bf1",
   "metadata": {},
   "outputs": [
    {
     "data": {
      "text/plain": [
       "array([73.8, 87.4, 62. , 79. , 75.2, 74.6, 76.6, 68.2, 61.6, 72.4, 70.4,\n",
       "       79. , 78.2, 79.8, 66.6, 58.4, 79. , 77.6, 76.2, 71.4, 64.2, 75.6,\n",
       "       88.2, 74.6, 78.2, 69.4, 76. , 70. , 81.6, 75.4, 86.4, 77. , 81.8,\n",
       "       75.8, 76.4, 77.2, 67. , 91.2, 74.4, 73.6, 76. , 70.6, 73.6, 86.8,\n",
       "       72.8, 71.8, 75.8, 67.2, 63.8, 71.4])"
      ]
     },
     "execution_count": 19,
     "metadata": {},
     "output_type": "execute_result"
    }
   ],
   "source": [
    "total / 5"
   ]
  },
  {
   "cell_type": "code",
   "execution_count": null,
   "id": "d7c87756",
   "metadata": {},
   "outputs": [
    {
     "data": {
      "text/plain": [
       "array([73.8, 87.4, 62. , 79. , 75.2, 74.6, 76.6, 68.2, 61.6, 72.4, 70.4,\n",
       "       79. , 78.2, 79.8, 66.6, 58.4, 79. , 77.6, 76.2, 71.4, 64.2, 75.6,\n",
       "       88.2, 74.6, 78.2, 69.4, 76. , 70. , 81.6, 75.4, 86.4, 77. , 81.8,\n",
       "       75.8, 76.4, 77.2, 67. , 91.2, 74.4, 73.6, 76. , 70.6, 73.6, 86.8,\n",
       "       72.8, 71.8, 75.8, 67.2, 63.8, 71.4])"
      ]
     },
     "execution_count": 21,
     "metadata": {},
     "output_type": "execute_result"
    }
   ],
   "source": [
    "#np裡面的function\n",
    "np.sum(scores,axis=1)\n",
    "np.mean(scores,axis=1)"
   ]
  },
  {
   "cell_type": "code",
   "execution_count": 22,
   "id": "f4aad6ef",
   "metadata": {},
   "outputs": [
    {
     "data": {
      "text/plain": [
       "array([73.8, 87.4, 62. , 79. , 75.2, 74.6, 76.6, 68.2, 61.6, 72.4, 70.4,\n",
       "       79. , 78.2, 79.8, 66.6, 58.4, 79. , 77.6, 76.2, 71.4, 64.2, 75.6,\n",
       "       88.2, 74.6, 78.2, 69.4, 76. , 70. , 81.6, 75.4, 86.4, 77. , 81.8,\n",
       "       75.8, 76.4, 77.2, 67. , 91.2, 74.4, 73.6, 76. , 70.6, 73.6, 86.8,\n",
       "       72.8, 71.8, 75.8, 67.2, 63.8, 71.4])"
      ]
     },
     "execution_count": 22,
     "metadata": {},
     "output_type": "execute_result"
    }
   ],
   "source": [
    "#實體方法\n",
    "scores.sum(axis=1)\n",
    "scores.mean(axis=1)"
   ]
  }
 ],
 "metadata": {
  "kernelspec": {
   "display_name": "data_1",
   "language": "python",
   "name": "python3"
  },
  "language_info": {
   "codemirror_mode": {
    "name": "ipython",
    "version": 3
   },
   "file_extension": ".py",
   "mimetype": "text/x-python",
   "name": "python",
   "nbconvert_exporter": "python",
   "pygments_lexer": "ipython3",
   "version": "3.12.11"
  }
 },
 "nbformat": 4,
 "nbformat_minor": 5
}
