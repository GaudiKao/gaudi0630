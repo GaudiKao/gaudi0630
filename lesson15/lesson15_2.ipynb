{
 "cells": [
  {
   "cell_type": "code",
   "execution_count": 14,
   "id": "e50e106b",
   "metadata": {},
   "outputs": [
    {
     "data": {
      "text/plain": [
       "array([ 0, 10, 20, 30, 40, 50, 60, 70, 80, 90])"
      ]
     },
     "execution_count": 14,
     "metadata": {},
     "output_type": "execute_result"
    }
   ],
   "source": [
    "import numpy as np\n",
    "arr = np.arange(10) * 10\n",
    "arr"
   ]
  },
  {
   "cell_type": "code",
   "execution_count": 15,
   "id": "cfd33088",
   "metadata": {},
   "outputs": [
    {
     "data": {
      "text/plain": [
       "array([50, 60, 70, 80, 90])"
      ]
     },
     "execution_count": 15,
     "metadata": {},
     "output_type": "execute_result"
    }
   ],
   "source": [
    "#索引\n",
    "arr[1]\n",
    "\n",
    "#slice\n",
    "arr[:5] #前5個\n",
    "arr[-5:] #最後5個"
   ]
  },
  {
   "cell_type": "code",
   "execution_count": 16,
   "id": "f11febd4",
   "metadata": {},
   "outputs": [
    {
     "data": {
      "text/plain": [
       "array([[ 75,  59,  91,  92,  75],\n",
       "       [ 69,  84,  55,  79,  77],\n",
       "       [ 52,  68,  58,  82,  93],\n",
       "       [ 57,  61,  95,  87,  80],\n",
       "       [ 89,  94,  58,  91,  88],\n",
       "       [ 75,  88,  93,  62,  54],\n",
       "       [ 83, 100,  51,  50,  55],\n",
       "       [ 71,  67,  61,  64,  72],\n",
       "       [ 55,  86,  92,  97,  92],\n",
       "       [ 97,  72,  97,  69,  66],\n",
       "       [ 80,  59, 100,  50,  75],\n",
       "       [ 94, 100,  65,  79,  62],\n",
       "       [ 79,  52,  82,  89,  62],\n",
       "       [ 85,  56,  78,  66,  67],\n",
       "       [ 68,  57,  71, 100,  51],\n",
       "       [ 90,  95,  92,  72,  82],\n",
       "       [ 88,  94,  85,  56,  75],\n",
       "       [ 96,  86,  71,  62,  56],\n",
       "       [ 78,  57,  99,  81,  53],\n",
       "       [ 57,  89,  85,  59,  59],\n",
       "       [ 59,  82,  80,  72,  79],\n",
       "       [ 69,  59,  94,  77,  71],\n",
       "       [ 86,  80,  52,  52,  82],\n",
       "       [ 88,  89,  94,  89,  80],\n",
       "       [ 86,  91,  53,  51,  90],\n",
       "       [ 94,  89,  88,  94,  72],\n",
       "       [ 89,  76,  60,  72,  55],\n",
       "       [ 54,  61,  61,  60,  52],\n",
       "       [ 96,  66,  54,  54,  74],\n",
       "       [ 54,  94,  72,  80,  83],\n",
       "       [ 72,  71,  76,  86,  95],\n",
       "       [ 58,  60,  94,  87,  53],\n",
       "       [ 75,  52,  52,  61,  95],\n",
       "       [ 90,  71,  65,  63,  63],\n",
       "       [ 75,  80,  63,  87,  98],\n",
       "       [ 75, 100,  82, 100,  91],\n",
       "       [ 95,  95,  58,  80,  72],\n",
       "       [ 94,  77,  94,  79,  86],\n",
       "       [ 64,  53,  65,  57,  88],\n",
       "       [ 91,  72,  92,  83,  94],\n",
       "       [ 57,  94,  81,  77,  65],\n",
       "       [ 60,  75,  63,  90,  87],\n",
       "       [ 56,  86,  65,  85,  59],\n",
       "       [ 52,  64,  83,  75,  88],\n",
       "       [ 59,  57,  51,  53,  56],\n",
       "       [ 62,  68,  60,  66,  84],\n",
       "       [ 60,  57,  98,  80,  96],\n",
       "       [ 98,  89,  84,  96,  69],\n",
       "       [ 59,  67,  95,  89,  79],\n",
       "       [ 71,  86,  69,  71,  79]], dtype=int32)"
      ]
     },
     "execution_count": 16,
     "metadata": {},
     "output_type": "execute_result"
    }
   ],
   "source": [
    "scores = np.random.randint(50, 101,size=(50,5))\n",
    "scores"
   ]
  },
  {
   "cell_type": "code",
   "execution_count": 19,
   "id": "5c09144b",
   "metadata": {},
   "outputs": [
    {
     "name": "stdout",
     "output_type": "stream",
     "text": [
      "1 (5,)\n",
      "2 (2, 5)\n"
     ]
    },
    {
     "data": {
      "text/plain": [
       "array([[75, 59, 91, 92, 75]], dtype=int32)"
      ]
     },
     "execution_count": 19,
     "metadata": {},
     "output_type": "execute_result"
    }
   ],
   "source": [
    "#第一位學生的分數\n",
    "scores1 = scores[0]\n",
    "print(scores1.ndim, scores1.shape)\n",
    "scores2 = scores[0:2, :]\n",
    "print(scores2.ndim, scores2.shape)\n",
    "scores[:1,]"
   ]
  },
  {
   "cell_type": "code",
   "execution_count": null,
   "id": "dd68671f",
   "metadata": {},
   "outputs": [
    {
     "data": {
      "text/plain": [
       "array([[63, 58, 97],\n",
       "       [89, 99, 69],\n",
       "       [78, 51, 53],\n",
       "       [58, 68, 97],\n",
       "       [52, 50, 92]], dtype=int32)"
      ]
     },
     "execution_count": 16,
     "metadata": {},
     "output_type": "execute_result"
    }
   ],
   "source": [
    "#前5位學生,前3個分數\n",
    "scores[:5,]\n",
    "scores[:5,:3]"
   ]
  },
  {
   "cell_type": "code",
   "execution_count": null,
   "id": "8796fc00",
   "metadata": {},
   "outputs": [],
   "source": []
  },
  {
   "cell_type": "code",
   "execution_count": null,
   "id": "a0e99b1c",
   "metadata": {},
   "outputs": [
    {
     "data": {
      "text/plain": [
       "array([ 63,  89,  78,  58,  52,  55,  80,  60,  53,  66,  70,  65,  97,\n",
       "        61,  54,  60,  91,  67,  89,  50,  52,  92,  79,  66,  84,  58,\n",
       "        94,  83,  91,  73,  94,  85,  86,  53,  82,  86,  53,  95,  79,\n",
       "        68, 100,  69,  67,  91,  83,  68,  92,  72,  65,  58], dtype=int32)"
      ]
     },
     "execution_count": 17,
     "metadata": {},
     "output_type": "execute_result"
    }
   ],
   "source": [
    "#第1科分數\n",
    "scores[:,0]"
   ]
  },
  {
   "cell_type": "code",
   "execution_count": null,
   "id": "d290af0c",
   "metadata": {},
   "outputs": [
    {
     "data": {
      "text/plain": [
       "array([369, 437, 310, 395, 376, 373, 383, 341, 308, 362, 352, 395, 391,\n",
       "       399, 333, 292, 395, 388, 381, 357, 321, 378, 441, 373, 391, 347,\n",
       "       380, 350, 408, 377, 432, 385, 409, 379, 382, 386, 335, 456, 372,\n",
       "       368, 380, 353, 368, 434, 364, 359, 379, 336, 319, 357], dtype=int32)"
      ]
     },
     "execution_count": 18,
     "metadata": {},
     "output_type": "execute_result"
    }
   ],
   "source": [
    "#ndarray可以陣列運算\n",
    "total = scores[:,0] + scores[:,1] + scores[:,2] + scores[:,3] + scores[:,4]\n",
    "total"
   ]
  },
  {
   "cell_type": "code",
   "execution_count": null,
   "id": "5b7f2bf1",
   "metadata": {},
   "outputs": [
    {
     "data": {
      "text/plain": [
       "array([73.8, 87.4, 62. , 79. , 75.2, 74.6, 76.6, 68.2, 61.6, 72.4, 70.4,\n",
       "       79. , 78.2, 79.8, 66.6, 58.4, 79. , 77.6, 76.2, 71.4, 64.2, 75.6,\n",
       "       88.2, 74.6, 78.2, 69.4, 76. , 70. , 81.6, 75.4, 86.4, 77. , 81.8,\n",
       "       75.8, 76.4, 77.2, 67. , 91.2, 74.4, 73.6, 76. , 70.6, 73.6, 86.8,\n",
       "       72.8, 71.8, 75.8, 67.2, 63.8, 71.4])"
      ]
     },
     "execution_count": 19,
     "metadata": {},
     "output_type": "execute_result"
    }
   ],
   "source": [
    "total / 5"
   ]
  },
  {
   "cell_type": "code",
   "execution_count": null,
   "id": "d7c87756",
   "metadata": {},
   "outputs": [
    {
     "data": {
      "text/plain": [
       "array([73.8, 87.4, 62. , 79. , 75.2, 74.6, 76.6, 68.2, 61.6, 72.4, 70.4,\n",
       "       79. , 78.2, 79.8, 66.6, 58.4, 79. , 77.6, 76.2, 71.4, 64.2, 75.6,\n",
       "       88.2, 74.6, 78.2, 69.4, 76. , 70. , 81.6, 75.4, 86.4, 77. , 81.8,\n",
       "       75.8, 76.4, 77.2, 67. , 91.2, 74.4, 73.6, 76. , 70.6, 73.6, 86.8,\n",
       "       72.8, 71.8, 75.8, 67.2, 63.8, 71.4])"
      ]
     },
     "execution_count": 21,
     "metadata": {},
     "output_type": "execute_result"
    }
   ],
   "source": [
    "#np裡面的function\n",
    "np.sum(scores,axis=1)\n",
    "np.mean(scores,axis=1)"
   ]
  },
  {
   "cell_type": "code",
   "execution_count": null,
   "id": "f4aad6ef",
   "metadata": {},
   "outputs": [
    {
     "data": {
      "text/plain": [
       "array([73.8, 87.4, 62. , 79. , 75.2, 74.6, 76.6, 68.2, 61.6, 72.4, 70.4,\n",
       "       79. , 78.2, 79.8, 66.6, 58.4, 79. , 77.6, 76.2, 71.4, 64.2, 75.6,\n",
       "       88.2, 74.6, 78.2, 69.4, 76. , 70. , 81.6, 75.4, 86.4, 77. , 81.8,\n",
       "       75.8, 76.4, 77.2, 67. , 91.2, 74.4, 73.6, 76. , 70.6, 73.6, 86.8,\n",
       "       72.8, 71.8, 75.8, 67.2, 63.8, 71.4])"
      ]
     },
     "execution_count": 22,
     "metadata": {},
     "output_type": "execute_result"
    }
   ],
   "source": [
    "#實體方法\n",
    "scores.sum(axis=1)\n",
    "scores.mean(axis=1)"
   ]
  }
 ],
 "metadata": {
  "kernelspec": {
   "display_name": "data_1",
   "language": "python",
   "name": "python3"
  },
  "language_info": {
   "codemirror_mode": {
    "name": "ipython",
    "version": 3
   },
   "file_extension": ".py",
   "mimetype": "text/x-python",
   "name": "python",
   "nbconvert_exporter": "python",
   "pygments_lexer": "ipython3",
   "version": "3.12.11"
  }
 },
 "nbformat": 4,
 "nbformat_minor": 5
}
