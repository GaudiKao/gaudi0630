{
 "cells": [
  {
   "cell_type": "code",
   "execution_count": 1,
   "id": "6dca9e09",
   "metadata": {},
   "outputs": [
    {
     "name": "stdout",
     "output_type": "stream",
     "text": [
      "0\n",
      "78\n",
      "=======\n",
      "1\n",
      "80\n",
      "=======\n",
      "2\n",
      "92\n",
      "=======\n",
      "3\n",
      "75\n",
      "=======\n",
      "4\n",
      "85\n",
      "=======\n"
     ]
    }
   ],
   "source": [
    "scores1 = [78, 80, 92, 75, 85]\n",
    "for i, score in enumerate(scores1):\n",
    "    print(i)\n",
    "    print(score)\n",
    "    print(\"=======\")"
   ]
  },
  {
   "cell_type": "code",
   "execution_count": 42,
   "id": "9e0599f0",
   "metadata": {},
   "outputs": [
    {
     "name": "stdout",
     "output_type": "stream",
     "text": [
      "128308921000最多連續出現3次0\n"
     ]
    }
   ],
   "source": [
    "#給定一個整數n,傳回數字0在n中連續出現最多的次數consecutive、current\n",
    "def max_consecutive_zeros(num):\n",
    "\n",
    "    curren_count = 0\n",
    "    max_count = 1\n",
    "    for i in range(len(num)):\n",
    "        str(num)\n",
    "        if num[i] == \"0\":\n",
    "            curren_count += 1\n",
    "            max_count = max(curren_count, max_count) #因為要傳出最多次數的curren_count值\n",
    "        else:\n",
    "            curren_count = 0\n",
    "    return max_count\n",
    "\n",
    "n = input(\"輸入1個整數:\")\n",
    "print(f\"{n}最多連續出現{max_consecutive_zeros(n)}次0\")\n"
   ]
  }
 ],
 "metadata": {
  "kernelspec": {
   "display_name": "data_1",
   "language": "python",
   "name": "python3"
  },
  "language_info": {
   "codemirror_mode": {
    "name": "ipython",
    "version": 3
   },
   "file_extension": ".py",
   "mimetype": "text/x-python",
   "name": "python",
   "nbconvert_exporter": "python",
   "pygments_lexer": "ipython3",
   "version": "3.12.11"
  }
 },
 "nbformat": 4,
 "nbformat_minor": 5
}
