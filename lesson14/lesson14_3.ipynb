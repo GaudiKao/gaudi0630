{
 "cells": [
  {
   "cell_type": "code",
   "execution_count": null,
   "id": "a6e5c44b",
   "metadata": {},
   "outputs": [
    {
     "data": {
      "text/plain": [
       "[1, 2, 3, '4']"
      ]
     },
     "execution_count": 2,
     "metadata": {},
     "output_type": "execute_result"
    }
   ],
   "source": [
    "# numpy(處理矩陣)和list有何不同\n",
    "\n",
    "py_list = [1, 2, 3, \"4\"] #list 可以放不同類型別\n",
    "py_list"
   ]
  },
  {
   "cell_type": "code",
   "execution_count": 6,
   "id": "ce5b165c",
   "metadata": {},
   "outputs": [
    {
     "data": {
      "text/plain": [
       "numpy.ndarray"
      ]
     },
     "execution_count": 6,
     "metadata": {},
     "output_type": "execute_result"
    }
   ],
   "source": [
    "import numpy as np\n",
    "np_array = np.array([1, 2, 3, 4]) #nd_array 必須要相同型別\n",
    "type(np_array)"
   ]
  },
  {
   "cell_type": "code",
   "execution_count": 9,
   "id": "67917c58",
   "metadata": {},
   "outputs": [
    {
     "name": "stdout",
     "output_type": "stream",
     "text": [
      "1\n",
      "2\n",
      "3\n",
      "4\n"
     ]
    },
    {
     "data": {
      "text/plain": [
       "[10, 20, 30, 40]"
      ]
     },
     "execution_count": 9,
     "metadata": {},
     "output_type": "execute_result"
    }
   ],
   "source": [
    "py_list = [1, 2, 3, 4] #內的元素,要數學運算必須取出值\n",
    "#一般作法\n",
    "new_list = []\n",
    "for ele in py_list:\n",
    "    print(ele)\n",
    "    new_list.append(ele*10)\n",
    "new_list"
   ]
  },
  {
   "cell_type": "code",
   "execution_count": 10,
   "id": "8521bb9f",
   "metadata": {},
   "outputs": [
    {
     "data": {
      "text/plain": [
       "[10, 20, 30, 40]"
      ]
     },
     "execution_count": 10,
     "metadata": {},
     "output_type": "execute_result"
    }
   ],
   "source": [
    "py_list = [1, 2, 3, 4]\n",
    "#使用綜合表達式\n",
    "[ele*10 for ele in py_list]"
   ]
  },
  {
   "cell_type": "code",
   "execution_count": null,
   "id": "bc1e5a6f",
   "metadata": {},
   "outputs": [
    {
     "data": {
      "text/plain": [
       "array([10, 20, 30, 40])"
      ]
     },
     "execution_count": 12,
     "metadata": {},
     "output_type": "execute_result"
    }
   ],
   "source": [
    "np_array = np.array([1, 2, 3, 4])\n",
    "#numpy可以使用'陣列運算'(向量化運算)，(list,dict取出值都需要配合for...in 迴圈才行)\n",
    "np_array *= 10\n",
    "np_array"
   ]
  }
 ],
 "metadata": {
  "kernelspec": {
   "display_name": "data_1",
   "language": "python",
   "name": "python3"
  },
  "language_info": {
   "codemirror_mode": {
    "name": "ipython",
    "version": 3
   },
   "file_extension": ".py",
   "mimetype": "text/x-python",
   "name": "python",
   "nbconvert_exporter": "python",
   "pygments_lexer": "ipython3",
   "version": "3.12.11"
  }
 },
 "nbformat": 4,
 "nbformat_minor": 5
}
