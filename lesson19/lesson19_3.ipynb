{
 "cells": [
  {
   "cell_type": "code",
   "execution_count": null,
   "id": "2a994eaf",
   "metadata": {},
   "outputs": [],
   "source": [
    "#1.取得`每日各站進出站人數`的資料夾\n",
    "#2.取得所有裏面檔案的絕對路徑\n",
    "#3.manifest.csv和schema.csv不要包含在內\n",
    "\n",
    "from pathlib import Path\n",
    "from pprint import pprint\n",
    "\n",
    "def list_daily_flow_files(base_dir: Path | None = None):\n",
    "    \"\"\"\n",
    "    1. 取得 '每日各站進出站人數' 資料夾\n",
    "    2. 取得其中所有 CSV 檔案的絕對路徑\n",
    "    3. 排除 manifest.csv 與 schema.csv\n",
    "    \"\"\"\n",
    "    if base_dir is None:\n",
    "        base_dir = Path.cwd()  # 與 lesson19_2.ipynb 做法一致\n",
    "    target_dir = base_dir / \"每日各站進出站人數\"\n",
    "    if not target_dir.is_dir():\n",
    "        raise FileNotFoundError(f\"找不到資料夾: {target_dir}\")\n",
    "\n",
    "    excluded = {\"manifest.csv\", \"schema.csv\"}\n",
    "    csv_paths = sorted(\n",
    "        p.resolve()\n",
    "        for p in target_dir.glob(\"*.csv\")\n",
    "        if p.name not in excluded\n",
    "    )\n",
    "    return target_dir.resolve(), csv_paths\n",
    "\n",
    "folder_abs_path, file_abs_paths = list_daily_flow_files()\n",
    "\n",
    "print(\"資料夾絕對路徑:\")\n",
    "print(folder_abs_path)\n",
    "print(\"\\n檔案絕對路徑 (已排除 manifest.csv, schema.csv):\")\n",
    "pprint([str(p) for p in file_abs_paths])"
   ]
  }
 ],
 "metadata": {
  "kernelspec": {
   "display_name": "data_1",
   "language": "python",
   "name": "python3"
  },
  "language_info": {
   "name": "python",
   "version": "3.12.11"
  }
 },
 "nbformat": 4,
 "nbformat_minor": 5
}
