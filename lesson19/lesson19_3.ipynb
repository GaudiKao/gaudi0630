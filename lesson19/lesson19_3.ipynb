{
 "cells": [
  {
   "cell_type": "code",
   "execution_count": null,
   "id": "1aea3873",
   "metadata": {},
   "outputs": [
    {
     "name": "stdout",
     "output_type": "stream",
     "text": [
      "找到資料夾: C:\\Users\\Gaudi\\Documents\\Github\\gaudi0630\\lesson19\\每日各站進出站人數\n",
      "檔案數量（已排除 manifest/schema）: 5\n",
      "C:\\Users\\Gaudi\\Documents\\Github\\gaudi0630\\lesson19\\每日各站進出站人數\\每日各站進出站人數20190423-20191231.csv\n",
      "C:\\Users\\Gaudi\\Documents\\Github\\gaudi0630\\lesson19\\每日各站進出站人數\\每日各站進出站人數2020.csv\n",
      "C:\\Users\\Gaudi\\Documents\\Github\\gaudi0630\\lesson19\\每日各站進出站人數\\每日各站進出站人數2021.csv\n",
      "C:\\Users\\Gaudi\\Documents\\Github\\gaudi0630\\lesson19\\每日各站進出站人數\\每日各站進出站人數2022.csv\n",
      "C:\\Users\\Gaudi\\Documents\\Github\\gaudi0630\\lesson19\\每日各站進出站人數\\每日各站進出站人數2023.csv\n"
     ]
    }
   ],
   "source": [
    "#1.取得`每日各站進出站人數`的資料夾\n",
    "#2.取得所有裏面檔案的絕對路徑\n",
    "#3.manifest.csv和schema.csv不要包含在內\n",
    "\n",
    "from pathlib import Path\n",
    "\n",
    "def find_folder_by_name(root: Path, folder_name: str) -> Path | None:\n",
    "    \"\"\"遞迴搜尋 root 下面第一個名稱符合 folder_name 的資料夾，找不到回傳 None。\"\"\"\n",
    "    for p in root.rglob(folder_name):\n",
    "        if p.is_dir() and p.name == folder_name:\n",
    "            return p\n",
    "    return None\n",
    "\n",
    "# 起點（在 notebook 中通常為專案目錄，必要時可改為明確路徑）\n",
    "root = Path.cwd()\n",
    "target_name = \"每日各站進出站人數\"\n",
    "\n",
    "folder = find_folder_by_name(root, target_name)\n",
    "if folder is None:\n",
    "    raise FileNotFoundError(f\"找不到資料夾 '{target_name}'，搜尋起點：{root}\")\n",
    "\n",
    "# 收集所有檔案的絕對路徑，排除 manifest.csv 和 schema.csv\n",
    "exclude_names = {\"manifest.csv\", \"schema.csv\"}\n",
    "file_paths = sorted([p.resolve() for p in folder.rglob(\"*\") if p.is_file() and p.name not in exclude_names])\n",
    "\n",
    "# 列印與簡單檢查\n",
    "print(f\"找到資料夾: {folder.resolve()}\")\n",
    "print(f\"檔案數量（已排除 manifest/schema）: {len(file_paths)}\")\n",
    "for fp in file_paths:\n",
    "    print(fp)"
   ]
  },
  {
   "cell_type": "code",
   "execution_count": 1,
   "id": "2a994eaf",
   "metadata": {},
   "outputs": [
    {
     "name": "stdout",
     "output_type": "stream",
     "text": [
      "資料夾絕對路徑:\n",
      "C:\\Users\\Gaudi\\Documents\\Github\\gaudi0630\\lesson19\\每日各站進出站人數\n",
      "\n",
      "檔案絕對路徑 (已排除 manifest.csv, schema.csv):\n",
      "['C:\\\\Users\\\\Gaudi\\\\Documents\\\\Github\\\\gaudi0630\\\\lesson19\\\\每日各站進出站人數\\\\每日各站進出站人數20190423-20191231.csv',\n",
      " 'C:\\\\Users\\\\Gaudi\\\\Documents\\\\Github\\\\gaudi0630\\\\lesson19\\\\每日各站進出站人數\\\\每日各站進出站人數2020.csv',\n",
      " 'C:\\\\Users\\\\Gaudi\\\\Documents\\\\Github\\\\gaudi0630\\\\lesson19\\\\每日各站進出站人數\\\\每日各站進出站人數2021.csv',\n",
      " 'C:\\\\Users\\\\Gaudi\\\\Documents\\\\Github\\\\gaudi0630\\\\lesson19\\\\每日各站進出站人數\\\\每日各站進出站人數2022.csv',\n",
      " 'C:\\\\Users\\\\Gaudi\\\\Documents\\\\Github\\\\gaudi0630\\\\lesson19\\\\每日各站進出站人數\\\\每日各站進出站人數2023.csv']\n"
     ]
    }
   ],
   "source": [
    "#1.取得`每日各站進出站人數`的資料夾\n",
    "#2.取得所有裏面檔案的絕對路徑\n",
    "#3.manifest.csv和schema.csv不要包含在內\n",
    "\n",
    "from pathlib import Path\n",
    "from pprint import pprint\n",
    "\n",
    "def list_daily_flow_files(base_dir: Path | None = None):\n",
    "    \"\"\"\n",
    "    1. 取得 '每日各站進出站人數' 資料夾\n",
    "    2. 取得其中所有 CSV 檔案的絕對路徑\n",
    "    3. 排除 manifest.csv 與 schema.csv\n",
    "    \"\"\"\n",
    "    if base_dir is None:\n",
    "        base_dir = Path.cwd()  # 與 lesson19_2.ipynb 做法一致\n",
    "    target_dir = base_dir / \"每日各站進出站人數\"\n",
    "    if not target_dir.is_dir():\n",
    "        raise FileNotFoundError(f\"找不到資料夾: {target_dir}\")\n",
    "\n",
    "    excluded = {\"manifest.csv\", \"schema.csv\"}\n",
    "    csv_paths = sorted(\n",
    "        p.resolve()\n",
    "        for p in target_dir.glob(\"*.csv\")\n",
    "        if p.name not in excluded\n",
    "    )\n",
    "    return target_dir.resolve(), csv_paths\n",
    "\n",
    "folder_abs_path, file_abs_paths = list_daily_flow_files()\n",
    "\n",
    "print(\"資料夾絕對路徑:\")\n",
    "print(folder_abs_path)\n",
    "print(\"\\n檔案絕對路徑 (已排除 manifest.csv, schema.csv):\")\n",
    "pprint([str(p) for p in file_abs_paths])"
   ]
  }
 ],
 "metadata": {
  "kernelspec": {
   "display_name": "data_1",
   "language": "python",
   "name": "python3"
  },
  "language_info": {
   "codemirror_mode": {
    "name": "ipython",
    "version": 3
   },
   "file_extension": ".py",
   "mimetype": "text/x-python",
   "name": "python",
   "nbconvert_exporter": "python",
   "pygments_lexer": "ipython3",
   "version": "3.12.11"
  }
 },
 "nbformat": 4,
 "nbformat_minor": 5
}
