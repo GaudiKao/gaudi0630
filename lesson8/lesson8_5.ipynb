{
 "cells": [
  {
   "cell_type": "code",
   "execution_count": null,
   "id": "fa387f7e",
   "metadata": {},
   "outputs": [
    {
     "name": "stdout",
     "output_type": "stream",
     "text": [
      "Hello! 您好\n"
     ]
    }
   ],
   "source": [
    "#型別提示(type hint)有hint會讓可讀性會更好\n",
    "def say_hello():\n",
    "    print(\"Hello! 您好\")\n",
    "\n",
    "say_hello()"
   ]
  },
  {
   "cell_type": "code",
   "execution_count": null,
   "id": "f051a799",
   "metadata": {},
   "outputs": [
    {
     "name": "stdout",
     "output_type": "stream",
     "text": [
      "Robert! 您好\n"
     ]
    }
   ],
   "source": [
    "def say_hello(name:str):\n",
    "    print(f\"{name}! 您好\")\n",
    "\n",
    "say_hello(\"Robert\")"
   ]
  },
  {
   "cell_type": "code",
   "execution_count": 3,
   "id": "2ea03d96",
   "metadata": {},
   "outputs": [
    {
     "name": "stdout",
     "output_type": "stream",
     "text": [
      "Robert! 您好\n"
     ]
    }
   ],
   "source": [
    "def say_hello(name:str)->str:\n",
    "    return f\"{name}! 您好\"\n",
    "\n",
    "print(say_hello(\"Robert\"))"
   ]
  },
  {
   "cell_type": "code",
   "execution_count": 4,
   "id": "bce1ed9a",
   "metadata": {},
   "outputs": [],
   "source": [
    "name:str = \"robert\"\n",
    "age:int = 45"
   ]
  }
 ],
 "metadata": {
  "kernelspec": {
   "display_name": "base",
   "language": "python",
   "name": "python3"
  },
  "language_info": {
   "codemirror_mode": {
    "name": "ipython",
    "version": 3
   },
   "file_extension": ".py",
   "mimetype": "text/x-python",
   "name": "python",
   "nbconvert_exporter": "python",
   "pygments_lexer": "ipython3",
   "version": "3.13.2"
  }
 },
 "nbformat": 4,
 "nbformat_minor": 5
}
