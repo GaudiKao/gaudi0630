{
 "cells": [
  {
   "cell_type": "code",
   "execution_count": null,
   "id": "3a6e3e13",
   "metadata": {},
   "outputs": [
    {
     "name": "stdout",
     "output_type": "stream",
     "text": [
      "(1, 2.5, '3.9', 'hello', True)\n"
     ]
    }
   ],
   "source": [
    "##如果參數有*參數名稱\n",
    "#沒有限定數量的引數值呼叫\n",
    "\n",
    "def fun1(*args):\n",
    "    print(args)\n",
    "\n",
    "fun1(1, 2.5, \"3.9\", \"hello\", True) # 這是一個tuple，可以把多個數值打包在一起 ()"
   ]
  },
  {
   "cell_type": "code",
   "execution_count": null,
   "id": "74978793",
   "metadata": {},
   "outputs": [
    {
     "data": {
      "text/plain": [
       "('a', 'b', 'c', 'd', 'e')"
      ]
     },
     "execution_count": 4,
     "metadata": {},
     "output_type": "execute_result"
    }
   ],
   "source": [
    "#建立自訂的tuple\n",
    "\n",
    "(\"a\", \"b\", \"c\", \"d\", \"e\") #使用()符號建立tuple\n",
    "\"a\", \"b\", \"c\", \"d\", \"e\" #這也是tuple,可省略()直接使用逗號分隔"
   ]
  },
  {
   "cell_type": "code",
   "execution_count": null,
   "id": "26a16610",
   "metadata": {},
   "outputs": [
    {
     "name": "stdout",
     "output_type": "stream",
     "text": [
      "{'one': 1, 'two': 2, 'three': 3}\n"
     ]
    }
   ],
   "source": [
    "def fun2(**kwargs): ##**參數名稱,沒有限定數量的引數名稱呼叫\n",
    "    print(kwargs) ##kwargs是dictionary字典(dict)\n",
    "\n",
    "fun2(one=1, two=2, three=3) ##會輸出{key:value}"
   ]
  }
 ],
 "metadata": {
  "kernelspec": {
   "display_name": "base",
   "language": "python",
   "name": "python3"
  },
  "language_info": {
   "codemirror_mode": {
    "name": "ipython",
    "version": 3
   },
   "file_extension": ".py",
   "mimetype": "text/x-python",
   "name": "python",
   "nbconvert_exporter": "python",
   "pygments_lexer": "ipython3",
   "version": "3.13.2"
  }
 },
 "nbformat": 4,
 "nbformat_minor": 5
}
