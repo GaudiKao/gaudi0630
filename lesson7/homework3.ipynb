{
 "cells": [
  {
   "cell_type": "code",
   "execution_count": null,
   "id": "c7b2098c",
   "metadata": {},
   "outputs": [],
   "source": [
    "import random\n",
    "\n",
    "print(\"=======猜數字遊戲=======\\n\")\n",
    "\n",
    "play_time = 0\n",
    "while True:\n",
    "    min = 1\n",
    "    max = 100\n",
    "    count = 0\n",
    "    guess_value = random.randint(min,max)\n",
    "    play_time += 1\n",
    "    while True:\n",
    "        try:\n",
    "            keyin = int(input(f\"猜數字範圍({min}~{max}):\"))\n",
    "            count += 1\n",
    "            if min <= keyin <=max:\n",
    "                if(keyin == guess_value):\n",
    "                    print(f\"賓果！猜對惹，答案是 {guess_value}\")\n",
    "                    print(f\"您總共猜了 {count} 次\")\n",
    "                    break\n",
    "                          \n",
    "                elif keyin > guess_value:\n",
    "                    print(\"再小一點!\")\n",
    "                    max = keyin - 1\n",
    "                    \n",
    "                else:\n",
    "                    print(\"再大一點\")\n",
    "                    min = keyin + 1\n",
    "                    \n",
    "                print(f\"您已經猜了{count}次\")\n",
    "            else:\n",
    "                print(\"請輸入提示範圍內的數字\")\n",
    "\n",
    "        except ValueError:\n",
    "            print(\"格式錯誤,請輸入範圍之正整數\")        \n",
    "    play_again = input(\"是否要再玩一次?(Y/N):\")\n",
    "    if play_again.upper() != \"Y\":\n",
    "        break\n",
    "    \n",
    "print(f\"遊戲結束,您共玩了{play_time}次遊戲\")"
   ]
  }
 ],
 "metadata": {
  "kernelspec": {
   "display_name": "base",
   "language": "python",
   "name": "python3"
  },
  "language_info": {
   "name": "python",
   "version": "3.13.2"
  }
 },
 "nbformat": 4,
 "nbformat_minor": 5
}
