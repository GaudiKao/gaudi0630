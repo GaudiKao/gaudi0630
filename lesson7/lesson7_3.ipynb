{
 "cells": [
  {
   "cell_type": "markdown",
   "id": "c0b73c7e",
   "metadata": {},
   "source": [
    "### 猜數字遊戲"
   ]
  },
  {
   "cell_type": "code",
   "execution_count": null,
   "id": "69b3cda4",
   "metadata": {},
   "outputs": [],
   "source": [
    "import random\n",
    "\n",
    "min = 1\n",
    "max = 10\n",
    "count = 0\n",
    "\n",
    "guess_value = random.randint(min, max)\n",
    "print(\"=======猜數字遊戲=======\\n\")\n",
    "while True:\n",
    "    keyin = int(inupt(f\"猜數字範圍:{min}~{max}\"))\n",
    "    count += 1\n",
    "    if min <= keyin <=max:\n",
    "        if(keyin == guess_value):\n",
    "            print(f\"賓果!猜對惹,答案是{guess_value}\n",
    "            \\n您猜了{count}次\")\n",
    "            break\n",
    "        else:\n",
    "            print(\"再接再厲!\")\n",
    "    else:\n",
    "        print(\"請輸入提示範圍內的數字\")\n",
    "print(\"遊戲結束!\")"
   ]
  }
 ],
 "metadata": {
  "kernelspec": {
   "display_name": "base",
   "language": "python",
   "name": "python3"
  },
  "language_info": {
   "name": "python",
   "version": "3.13.2"
  }
 },
 "nbformat": 4,
 "nbformat_minor": 5
}
