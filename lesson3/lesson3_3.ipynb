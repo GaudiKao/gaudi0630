{
 "cells": [
  {
   "cell_type": "code",
   "execution_count": 10,
   "id": "85a0ecdb",
   "metadata": {},
   "outputs": [
    {
     "name": "stdout",
     "output_type": "stream",
     "text": [
      "梯形的面積: 40\n",
      "梯形的面積: 40.02\n"
     ]
    }
   ],
   "source": [
    "# 請輸入梯形的上底(公分):5\n",
    "# 請輸入梯形的下底(公分):10\n",
    "# 請輸入梯形的高(公分):2\n",
    "\n",
    "top = 13.5\n",
    "bottom = 21.3\n",
    "height = 2.3\n",
    "\n",
    "area = (top + bottom) * height / 2\n",
    "print(f\"梯形的面積: {area:.0f}\")\n",
    "print(\"梯形的面積:\", round(area,ndigits=2))"
   ]
  },
  {
   "cell_type": "code",
   "execution_count": 12,
   "id": "1bef0ee8",
   "metadata": {},
   "outputs": [
    {
     "data": {
      "text/plain": [
       "78.0"
      ]
     },
     "execution_count": 12,
     "metadata": {},
     "output_type": "execute_result"
    }
   ],
   "source": [
    "value = input(\"請輸入一個數值: \")\n",
    "type(value)\n",
    "value_float = float(value)\n",
    "value_float"
   ]
  },
  {
   "cell_type": "code",
   "execution_count": null,
   "id": "e7c9f81d",
   "metadata": {},
   "outputs": [],
   "source": [
    "value = float(input(\"請輸入一個數值:\"))\n"
   ]
  }
 ],
 "metadata": {
  "kernelspec": {
   "display_name": "base",
   "language": "python",
   "name": "python3"
  },
  "language_info": {
   "codemirror_mode": {
    "name": "ipython",
    "version": 3
   },
   "file_extension": ".py",
   "mimetype": "text/x-python",
   "name": "python",
   "nbconvert_exporter": "python",
   "pygments_lexer": "ipython3",
   "version": "3.13.2"
  }
 },
 "nbformat": 4,
 "nbformat_minor": 5
}
