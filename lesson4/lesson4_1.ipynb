{
 "cells": [
  {
   "cell_type": "code",
   "execution_count": 3,
   "id": "abb80557",
   "metadata": {},
   "outputs": [
    {
     "name": "stdout",
     "output_type": "stream",
     "text": [
      "3數的加總:  132.422\n"
     ]
    }
   ],
   "source": [
    "value1 = float(input(\"請輸入第1個值: \"))\n",
    "value2 = float(input(\"請輸入第2個值: \"))\n",
    "value3 = float(input(\"請輸入第3個值: \"))\n",
    "total = value1 + value2 + value3\n",
    "print(\"3數的加總: \", total)"
   ]
  },
  {
   "cell_type": "code",
   "execution_count": 4,
   "id": "fa1b53fe",
   "metadata": {},
   "outputs": [
    {
     "name": "stdout",
     "output_type": "stream",
     "text": [
      "3 5.0 您好 True 78.9\n"
     ]
    }
   ],
   "source": [
    "print(3, \"5.0\", \"您好\", True, 78.9)"
   ]
  },
  {
   "cell_type": "code",
   "execution_count": 7,
   "id": "00b6586c",
   "metadata": {},
   "outputs": [
    {
     "name": "stdout",
     "output_type": "stream",
     "text": [
      "n = 50\n"
     ]
    }
   ],
   "source": [
    "n = 25\n",
    "n = n + 25\n",
    "print(\"n =\", n)"
   ]
  },
  {
   "cell_type": "code",
   "execution_count": 11,
   "id": "fce294ee",
   "metadata": {},
   "outputs": [
    {
     "name": "stdout",
     "output_type": "stream",
     "text": [
      "n = 100\n"
     ]
    }
   ],
   "source": [
    "#複合指定運算子\n",
    "# +=\n",
    "# -=\n",
    "# *=\n",
    "\n",
    "n = 25\n",
    "n += 25\n",
    "n *= 2\n",
    "print(\"n =\", n)"
   ]
  },
  {
   "cell_type": "code",
   "execution_count": null,
   "id": "1981b62f",
   "metadata": {},
   "outputs": [
    {
     "name": "stdout",
     "output_type": "stream",
     "text": [
      "3數的加總:  200.0\n"
     ]
    }
   ],
   "source": [
    "#複合指定運算子\n",
    "\n",
    "total = 0\n",
    "value = float(input(\"請輸入第1個值: \"))\n",
    "total += value\n",
    "\n",
    "value = float(input(\"請輸入第2個值: \"))\n",
    "total += value\n",
    "\n",
    "value = float(input(\"請輸入第3個值: \"))\n",
    "total += value\n",
    "\n",
    "print(\"3數的加總:\", total)"
   ]
  },
  {
   "cell_type": "code",
   "execution_count": null,
   "id": "984a4eb5",
   "metadata": {},
   "outputs": [
    {
     "name": "stdout",
     "output_type": "stream",
     "text": [
      "a= 3.0\n",
      "b= 4.0\n",
      "斜邊為 5.0\n"
     ]
    }
   ],
   "source": [
    "#直角三角形\n",
    "import math\n",
    "a = float(input(\"請輸入a=\"))\n",
    "b = float(input(\"請輸入b=\"))\n",
    "c = math.sqrt(a ** 2 + b ** 2) #sqrt = **(1/2)\n",
    "\n",
    "print(\"a=\", a)\n",
    "print(\"b=\", b)\n",
    "print(\"斜邊為\", c)"
   ]
  },
  {
   "cell_type": "code",
   "execution_count": null,
   "id": "1a120195",
   "metadata": {},
   "outputs": [
    {
     "name": "stdout",
     "output_type": "stream",
     "text": [
      "直角三角形的角度為: 36.87\n"
     ]
    }
   ],
   "source": [
    "import math #使用math模組\n",
    "\n",
    "side = float(input(\"請輸入斜邊:\"))\n",
    "other_side = float(input(\"請輸入對邊:\"))\n",
    "radian = math.asin(other_side / side)\n",
    "degree = math.degrees(radian)\n",
    "\n",
    "print(f\"直角三角形的角度為: {degree:.2f}\")"
   ]
  },
  {
   "cell_type": "code",
   "execution_count": null,
   "id": "b1681b7e",
   "metadata": {},
   "outputs": [
    {
     "data": {
      "text/plain": [
       "1.0810874155219827"
      ]
     },
     "execution_count": 24,
     "metadata": {},
     "output_type": "execute_result"
    }
   ],
   "source": [
    "import statistics as stat #使用模組並簡化\n",
    "stat.stdev([1.5, 2.5, 2.5, 2.75, 3.25, 4.75])"
   ]
  }
 ],
 "metadata": {
  "kernelspec": {
   "display_name": "base",
   "language": "python",
   "name": "python3"
  },
  "language_info": {
   "codemirror_mode": {
    "name": "ipython",
    "version": 3
   },
   "file_extension": ".py",
   "mimetype": "text/x-python",
   "name": "python",
   "nbconvert_exporter": "python",
   "pygments_lexer": "ipython3",
   "version": "3.13.2"
  }
 },
 "nbformat": 4,
 "nbformat_minor": 5
}
