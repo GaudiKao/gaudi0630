{
 "cells": [
  {
   "cell_type": "code",
   "execution_count": 3,
   "id": "abb80557",
   "metadata": {},
   "outputs": [
    {
     "name": "stdout",
     "output_type": "stream",
     "text": [
      "3數的加總:  132.422\n"
     ]
    }
   ],
   "source": [
    "value1 = float(input(\"請輸入第1個值: \"))\n",
    "value2 = float(input(\"請輸入第2個值: \"))\n",
    "value3 = float(input(\"請輸入第3個值: \"))\n",
    "total = value1 + value2 + value3\n",
    "print(\"3數的加總: \", total)"
   ]
  },
  {
   "cell_type": "code",
   "execution_count": 4,
   "id": "fa1b53fe",
   "metadata": {},
   "outputs": [
    {
     "name": "stdout",
     "output_type": "stream",
     "text": [
      "3 5.0 您好 True 78.9\n"
     ]
    }
   ],
   "source": [
    "print(3, \"5.0\", \"您好\", True, 78.9)"
   ]
  }
 ],
 "metadata": {
  "kernelspec": {
   "display_name": "base",
   "language": "python",
   "name": "python3"
  },
  "language_info": {
   "codemirror_mode": {
    "name": "ipython",
    "version": 3
   },
   "file_extension": ".py",
   "mimetype": "text/x-python",
   "name": "python",
   "nbconvert_exporter": "python",
   "pygments_lexer": "ipython3",
   "version": "3.13.2"
  }
 },
 "nbformat": 4,
 "nbformat_minor": 5
}
